{
 "cells": [
  {
   "cell_type": "code",
   "execution_count": 14,
   "metadata": {},
   "outputs": [],
   "source": [
    "from bs4 import BeautifulSoup\n",
    "import csv\n",
    "with open(\"R data/Cristiano Ronaldo - All goals .html\") as fp:\n",
    "    soup = BeautifulSoup(fp)\n",
    "trs = list(soup.find_all('tr'))\n",
    "with open(\"goals.csv\", mode=\"w\") as goalFile:\n",
    "    goalWriter = csv.writer(goalFile, delimiter=';', quotechar='\"', quoting=csv.QUOTE_MINIMAL)\n",
    "    goalWriter.writerow(['compitition','for', 'against', 'home/away', 'number of goals'])\n",
    "    for i in range(11, len(trs)) : \n",
    "        row = ['','','','','']\n",
    "        if len(trs[i].find_all('td')) == 11:\n",
    "            data = trs[i].find_all('td')\n",
    "            row[1] = data[3].a.img['alt']\n",
    "            row[2] = data[4].a.img['alt']\n",
    "        elif len(trs[i].find_all('td')) == 12:\n",
    "            data = trs[i].find_all('td')\n",
    "            row[1] = data[3].a.img['alt']\n",
    "            row[2] = data[5].a.img['alt']\n",
    "        j=i+1\n",
    "        g=1\n",
    "        if (len(trs[i].find_all('td'))>10):\n",
    "            row[0] = data[0].img['alt']\n",
    "            row[3] = data[2].string\n",
    "            while (len(trs[j].find_all('td'))<10):\n",
    "                try:\n",
    "                    if(trs[j].find_all('td')[0]['colspan']==\"9\"):\n",
    "                        g = g+1\n",
    "                    j = j+1\n",
    "                except:\n",
    "                    break\n",
    "            row[4] = g\n",
    "            goalWriter.writerow(row)"
   ]
  }
 ],
 "metadata": {
  "kernelspec": {
   "display_name": "Python 3",
   "language": "python",
   "name": "python3"
  },
  "language_info": {
   "codemirror_mode": {
    "name": "ipython",
    "version": 3
   },
   "file_extension": ".py",
   "mimetype": "text/x-python",
   "name": "python",
   "nbconvert_exporter": "python",
   "pygments_lexer": "ipython3",
   "version": "3.7.1"
  }
 },
 "nbformat": 4,
 "nbformat_minor": 2
}
