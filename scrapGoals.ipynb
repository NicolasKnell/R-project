{
 "cells": [
  {
   "cell_type": "code",
   "execution_count": 4,
   "metadata": {},
   "outputs": [],
   "source": [
    "from bs4 import BeautifulSoup\n",
    "import csv\n",
    "##chemin relatif ou absolu du fichier html de la page web a scraper, son lien est:\n",
    "##https://www.transfermarkt.com/cristiano-ronaldo/alletore/spieler/8198/saison//verein/0/liga/0/wettbewerb//pos/0/trainer_id/0/minute/0/torart/0\n",
    "##nb : la page web doit etre téléchargé dans votre machine et le chmin doit etre changé sel\n",
    "with open(\"R/R data/Cristiano Ronaldo - All goals .html\") as fp:\n",
    "    soup = BeautifulSoup(fp)\n",
    "trs = list(soup.find_all('tr'))\n",
    "##ouverture du fichier contenant les resultats\n",
    "with open(\"goals.csv\", mode=\"w\") as goalFile:\n",
    "    goalWriter = csv.writer(goalFile, delimiter=';', quotechar='\"', quoting=csv.QUOTE_MINIMAL)\n",
    "    ##ecriture de l'entête du fichier csv\n",
    "    goalWriter.writerow(['compitition','for', 'against', 'home/away', 'number of goals'])\n",
    "    for i in range(11, len(trs)) : \n",
    "        ##initialisation de la ligne a ecrire\n",
    "        row = ['','','','','']\n",
    "        ##extraction des donnees\n",
    "        if len(trs[i].find_all('td')) == 11:\n",
    "            data = trs[i].find_all('td')\n",
    "            ###equipe de Cristiano et l'adversaire\n",
    "            row[1] = data[3].a.img['alt']\n",
    "            row[2] = data[4].a.img['alt']\n",
    "        elif len(trs[i].find_all('td')) == 12:\n",
    "            data = trs[i].find_all('td')\n",
    "            ###equipe de Cristiano et l'adversaire\n",
    "            row[1] = data[3].a.img['alt']\n",
    "            row[2] = data[5].a.img['alt']\n",
    "        j=i+1\n",
    "        g=1\n",
    "        if (len(trs[i].find_all('td'))>10):\n",
    "            ###competition\n",
    "            row[0] = data[0].img['alt']\n",
    "            ###a domicile -> H, exterieur -> A\n",
    "            row[3] = data[2].string\n",
    "            ##boucle pour calculer le nombre de buts par match\n",
    "            while (len(trs[j].find_all('td'))<10):\n",
    "                try:\n",
    "                    if(trs[j].find_all('td')[0]['colspan']==\"9\"):\n",
    "                        g = g+1\n",
    "                    j = j+1\n",
    "                except:\n",
    "                    break\n",
    "            ###nombre de buts dans le match\n",
    "            row[4] = g\n",
    "            ##ecriture de la ligne dans le fichier csv\n",
    "            goalWriter.writerow(row)"
   ]
  }
 ],
 "metadata": {
  "kernelspec": {
   "display_name": "Python 3",
   "language": "python",
   "name": "python3"
  },
  "language_info": {
   "codemirror_mode": {
    "name": "ipython",
    "version": 3
   },
   "file_extension": ".py",
   "mimetype": "text/x-python",
   "name": "python",
   "nbconvert_exporter": "python",
   "pygments_lexer": "ipython3",
   "version": "3.7.1"
  }
 },
 "nbformat": 4,
 "nbformat_minor": 2
}
